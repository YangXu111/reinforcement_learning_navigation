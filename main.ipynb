{
 "cells": [
  {
   "cell_type": "code",
   "execution_count": 1,
   "metadata": {},
   "outputs": [
    {
     "name": "stdout",
     "output_type": "stream",
     "text": [
      "The current device is cuda:0\n",
      "2021-02-28 17:06:10,635 INFO CUDA version: 11.0, CUDA enabled: True\n"
     ]
    }
   ],
   "source": [
    "# import IPython\r\n",
    "# IPython.Application.instance().kernel.do_shutdown(True) #automatically restarts kernel\r\n",
    "# %load_ext autoreload\r\n",
    "# %autoreload 2\r\n",
    "import sys, math, datetime, time, torch, logging, json, dill\r\n",
    "import progressbar as pb\r\n",
    "import matplotlib.pyplot as plt\r\n",
    "from unityagents import UnityEnvironment\r\n",
    "\r\n",
    "from dqn_agent import DQNAgent\r\n",
    "from double_dqn_agent import DoubleDQNAgent\r\n",
    "from prioritized_replay_dqn_agent import PrioritizedReplayDQNAgent\r\n",
    "from dueling_dqn_agent import DuelingDQNAgent\r\n",
    "\r\n",
    "\r\n",
    "# os.environ['CUBLAS_WORKSPACE_CONFIG'] = ':4096:8'\r\n",
    "log_file_path = 'output.log' # Output log file\r\n",
    "algorithm = 'DQN'\r\n",
    "# ['DQN','Double_DQN', 'Prioritized_Experience_Replay', 'Dueling_DQN']\r\n",
    "\r\n",
    "logger = logging.getLogger('p1_navigation')\r\n",
    "while logger.handlers:\r\n",
    "    logger.removeHandler(logger.handlers[0])\r\n",
    "logger.propagate = False\r\n",
    "\r\n",
    "formatter = logging.Formatter('%(asctime)s %(levelname)s %(message)s')\r\n",
    "\r\n",
    "sh = logging.StreamHandler(sys.stdout)\r\n",
    "sh.setFormatter(formatter)\r\n",
    "sh.setLevel(logging.DEBUG)\r\n",
    "\r\n",
    "fh = logging.FileHandler(log_file_path)\r\n",
    "fh.setLevel(logging.INFO)\r\n",
    "\r\n",
    "logger.addHandler(sh)\r\n",
    "logger.addHandler(fh)\r\n",
    "logger.setLevel(logging.DEBUG)\r\n",
    "\r\n",
    "logger.info('CUDA version: %s, CUDA enabled: %s' % (torch.version.cuda, torch.backends.cudnn.enabled))"
   ]
  },
  {
   "cell_type": "code",
   "execution_count": 2,
   "metadata": {},
   "outputs": [
    {
     "name": "stderr",
     "output_type": "stream",
     "text": [
      "INFO:unityagents:\n",
      "'Academy' started successfully!\n",
      "Unity Academy name: Academy\n",
      "        Number of Brains: 1\n",
      "        Number of External Brains : 1\n",
      "        Lesson number : 0\n",
      "        Reset Parameters :\n",
      "\t\t\n",
      "Unity brain name: BananaBrain\n",
      "        Number of Visual Observations (per agent): 0\n",
      "        Vector Observation space type: continuous\n",
      "        Vector Observation space size (per agent): 37\n",
      "        Number of stacked Vector Observation: 1\n",
      "        Vector Action space type: discrete\n",
      "        Vector Action space size (per agent): 4\n",
      "        Vector Action descriptions: , , , \n"
     ]
    }
   ],
   "source": [
    "env = UnityEnvironment(file_name='Banana_Windows_x86_64\\Banana.exe')\n",
    "# get the default brain\n",
    "brain_name = env.brain_names[0]\n",
    "brain = env.brains[brain_name]"
   ]
  },
  {
   "cell_type": "markdown",
   "metadata": {},
   "source": [
    "# Initialize training"
   ]
  },
  {
   "cell_type": "code",
   "execution_count": 3,
   "metadata": {},
   "outputs": [
    {
     "name": "stdout",
     "output_type": "stream",
     "text": [
      "2021-02-28 17:06:17,027 DEBUG Number of agents: 1\n",
      "2021-02-28 17:06:17,035 DEBUG States look like: [1.         0.         0.         0.         0.84408134 0.\n",
      " 0.         1.         0.         0.0748472  0.         1.\n",
      " 0.         0.         0.25755    1.         0.         0.\n",
      " 0.         0.74177343 0.         1.         0.         0.\n",
      " 0.25854847 0.         0.         1.         0.         0.09355672\n",
      " 0.         1.         0.         0.         0.31969345 0.\n",
      " 0.        ]\n",
      "2021-02-28 17:06:17,036 INFO Number of agents: 1, states 37, actions: 4\n",
      "Regular network created\n",
      "Regular network created\n",
      "2021-02-28 17:06:23,817 INFO DQN\n",
      "2021-02-28 17:06:23,820 INFO {\n",
      "    \"hidden_layer_size\": 128,\n",
      "    \"random_seed\": 2,\n",
      "    \"learning_rate\": 0.01,\n",
      "    \"tau\": 0.1,\n",
      "    \"gamma\": 0.99,\n",
      "    \"memory_size\": 1000,\n",
      "    \"update_interval\": 4,\n",
      "    \"sample_size\": 64,\n",
      "    \"num_episodes\": 2000,\n",
      "    \"epsilon_begin\": 1,\n",
      "    \"epsilon_stable\": 0.01,\n",
      "    \"epsilon_decay\": 0.9977000638225533\n",
      "}\n",
      "2021-02-28 17:06:23,828 INFO It takes 2000.000000 steps for epsilon to go from 1.000000 to 0.010000\n"
     ]
    }
   ],
   "source": [
    "# reset the environment\r\n",
    "env_info = env.reset(train_mode=True)[brain_name]\r\n",
    "\r\n",
    "# number of agents in the environment\r\n",
    "logger.debug('Number of agents: %i' % len(env_info.agents))\r\n",
    "\r\n",
    "# examine the state space \r\n",
    "state = env_info.vector_observations[0]\r\n",
    "logger.debug('States look like: %s' % state)\r\n",
    "state_size = len(state)\r\n",
    "\r\n",
    "# number of actions\r\n",
    "action_size = brain.vector_action_space_size\r\n",
    "logger.info('Number of agents: %i, states %i, actions: %i' % (len(env_info.agents), state_size, action_size))\r\n",
    "\r\n",
    "if algorithm == 'DQN':\r\n",
    "    from constants import CONSTANTS as C\r\n",
    "    agent = DQNAgent(state_size, action_size)\r\n",
    "elif algorithm == 'Double_DQN':\r\n",
    "    from constants import CONSTANTS as C\r\n",
    "    agent = DoubleDQNAgent(state_size, action_size)\r\n",
    "elif algorithm == 'Prioritized_Experience_Replay':\r\n",
    "    from constants import PRIORITIZED_REPLAY_CONSTANTS as C\r\n",
    "    agent = PrioritizedReplayDQNAgent(state_size, action_size)\r\n",
    "    beta = C['beta_begin']\r\n",
    "    logger.info('It takes %f steps for beta to go from %f to %f' % ((C['beta_stable']-C['beta_begin'])/C['beta_increase'], C['beta_begin'], C['beta_stable']))\r\n",
    "elif algorithm == 'Dueling_DQN':\r\n",
    "    from constants import CONSTANTS as C\r\n",
    "    agent = DuelingDQNAgent(state_size, action_size)\r\n",
    "else:\r\n",
    "    logger.warning('No algorithm specified')\r\n",
    "\r\n",
    "logger.info(algorithm)\r\n",
    "logger.info(json.dumps(C, indent=4))\r\n",
    "\r\n",
    "episode_score_hist = []\r\n",
    "total_score = 0\r\n",
    "\r\n",
    "epsilon = C['epsilon_begin']\r\n",
    "logger.info('It takes %f steps for epsilon to go from %f to %f' % (math.log(C['epsilon_stable']/C['epsilon_begin'], C['epsilon_decay']), C['epsilon_begin'], C['epsilon_stable']))\r\n"
   ]
  },
  {
   "cell_type": "markdown",
   "metadata": {},
   "source": [
    "Training"
   ]
  },
  {
   "cell_type": "code",
   "execution_count": 4,
   "metadata": {
    "pycharm": {
     "name": "#%%\n"
    }
   },
   "outputs": [
    {
     "name": "stderr",
     "output_type": "stream",
     "text": [
      "training loop:   0% |                                          | ETA:  --:--:--\r"
     ]
    },
    {
     "name": "stdout",
     "output_type": "stream",
     "text": [
      "2021-02-25 16:15:19,543 INFO For episode 0, the average score is 0.00, episode history [0.0]\n"
     ]
    },
    {
     "name": "stderr",
     "output_type": "stream",
     "text": [
      "training loop:   5% |##                                         | ETA:  0:47:34\r"
     ]
    },
    {
     "name": "stdout",
     "output_type": "stream",
     "text": [
      "2021-02-25 16:17:47,737 INFO For episode 100, the average score is -0.33, episode history [1.0, -1.0, 0.0, 0.0, -1.0, -2.0, 0.0, 0.0, -2.0, 0.0, -1.0, 0.0, 0.0, 2.0, -1.0, -1.0, 0.0, 0.0, 0.0, 0.0, 0.0, 0.0, -4.0, 2.0, -1.0, -3.0, 2.0, 0.0, 0.0, -1.0, -1.0, -1.0, -1.0, -1.0, -1.0, -2.0, 1.0, -1.0, 0.0, 1.0, 1.0, -2.0, -1.0, 0.0, -1.0, -3.0, -1.0, 0.0, 1.0, 0.0, -1.0, -1.0, 0.0, -2.0, 1.0, 1.0, -1.0, 1.0, 1.0, 0.0, -2.0, 0.0, -1.0, 2.0, 0.0, 1.0, 0.0, 0.0, 0.0, 0.0, 2.0, 1.0, 0.0, 1.0, 1.0, -1.0, -2.0, 1.0, 0.0, 0.0, -2.0, -1.0, -2.0, -1.0, 0.0, 0.0, 0.0, -4.0, 0.0, -2.0, -1.0, 1.0, -1.0, 0.0, 4.0, -1.0, 0.0, -2.0, -1.0, 1.0]\n"
     ]
    },
    {
     "name": "stderr",
     "output_type": "stream",
     "text": [
      "training loop:  10% |####                                       | ETA:  0:44:35\r"
     ]
    },
    {
     "name": "stdout",
     "output_type": "stream",
     "text": [
      "2021-02-25 16:20:14,759 INFO For episode 200, the average score is -0.02, episode history [-3.0, 0.0, 0.0, -3.0, 0.0, 2.0, 0.0, 1.0, 1.0, 1.0, 0.0, -1.0, 5.0, 1.0, 1.0, -1.0, 2.0, -1.0, -1.0, 2.0, 0.0, -2.0, 0.0, -1.0, 2.0, 1.0, 1.0, -2.0, 1.0, 2.0, 3.0, 2.0, -1.0, 0.0, -2.0, -2.0, 1.0, 1.0, -2.0, 0.0, -3.0, 1.0, -2.0, 0.0, -3.0, 0.0, -1.0, 1.0, 0.0, -2.0, 2.0, 2.0, 0.0, 0.0, 0.0, -1.0, 0.0, 0.0, -1.0, -1.0, 1.0, 0.0, -2.0, -1.0, -3.0, 0.0, 0.0, -1.0, 1.0, 0.0, 0.0, 0.0, -3.0, -2.0, -1.0, 3.0, 1.0, 7.0, 1.0, -2.0, -1.0, -2.0, 2.0, 0.0, 0.0, 0.0, 2.0, 0.0, 1.0, -2.0, 0.0, 3.0, 1.0, -2.0, -2.0, 0.0, 0.0, 0.0, 1.0, -2.0]\n"
     ]
    },
    {
     "name": "stderr",
     "output_type": "stream",
     "text": [
      "training loop:  15% |######                                     | ETA:  0:42:15\r"
     ]
    },
    {
     "name": "stdout",
     "output_type": "stream",
     "text": [
      "2021-02-25 16:22:44,943 INFO For episode 300, the average score is 0.03, episode history [-1.0, 0.0, -1.0, 2.0, 2.0, 1.0, 0.0, -1.0, -1.0, 0.0, 0.0, 1.0, -2.0, 0.0, -1.0, -1.0, 0.0, 0.0, 0.0, -2.0, -2.0, 3.0, 2.0, 3.0, 0.0, 0.0, 2.0, 0.0, 4.0, -2.0, 2.0, -1.0, -5.0, -1.0, -1.0, -2.0, 4.0, 3.0, 2.0, 1.0, 0.0, -1.0, -2.0, -2.0, -3.0, -2.0, -4.0, 0.0, 2.0, 0.0, -1.0, 2.0, 1.0, 0.0, 0.0, -2.0, 1.0, 1.0, 0.0, 2.0, -1.0, 2.0, 0.0, -2.0, -1.0, -2.0, 0.0, 1.0, 3.0, 2.0, 0.0, -1.0, 0.0, 1.0, 0.0, 1.0, -1.0, -4.0, -4.0, -2.0, 1.0, 3.0, 4.0, -1.0, 2.0, 1.0, -1.0, 0.0, 1.0, 2.0, 1.0, -1.0, 1.0, -5.0, 1.0, 0.0, 1.0, 0.0, 1.0, 0.0]\n"
     ]
    },
    {
     "name": "stderr",
     "output_type": "stream",
     "text": [
      "training loop:  20% |########                                   | ETA:  0:39:57\r"
     ]
    },
    {
     "name": "stdout",
     "output_type": "stream",
     "text": [
      "2021-02-25 16:25:16,779 INFO For episode 400, the average score is 0.59, episode history [-1.0, -1.0, 1.0, 4.0, -2.0, -1.0, 0.0, -1.0, 0.0, -1.0, 0.0, 0.0, 0.0, 2.0, 0.0, 1.0, 2.0, 0.0, -2.0, 0.0, -3.0, 0.0, 1.0, 1.0, -1.0, 1.0, 0.0, 1.0, 1.0, 0.0, 0.0, -1.0, -1.0, -2.0, 0.0, -2.0, 0.0, -1.0, 1.0, -1.0, 0.0, 2.0, 0.0, -1.0, 1.0, 1.0, 0.0, -4.0, 2.0, -4.0, 2.0, 1.0, -1.0, 2.0, 0.0, 3.0, -2.0, 0.0, 0.0, -1.0, 1.0, 4.0, 0.0, 1.0, 2.0, 1.0, 0.0, 0.0, 0.0, 2.0, -1.0, 5.0, -4.0, 0.0, 0.0, 0.0, 0.0, 2.0, 0.0, 2.0, 3.0, 0.0, 0.0, 2.0, 4.0, 4.0, 4.0, 0.0, 1.0, 4.0, 2.0, 0.0, 1.0, 3.0, 2.0, 3.0, 6.0, 5.0, 2.0, 2.0]\n"
     ]
    },
    {
     "name": "stderr",
     "output_type": "stream",
     "text": [
      "training loop:  25% |##########                                 | ETA:  0:37:15\r"
     ]
    },
    {
     "name": "stdout",
     "output_type": "stream",
     "text": [
      "2021-02-25 16:27:42,604 INFO For episode 500, the average score is 3.59, episode history [2.0, 2.0, 3.0, 2.0, 3.0, 8.0, 1.0, 6.0, 0.0, 2.0, 4.0, 0.0, 2.0, 2.0, 3.0, 0.0, 4.0, 5.0, 3.0, 1.0, 4.0, 4.0, 0.0, 3.0, 3.0, 3.0, 1.0, 0.0, 3.0, 3.0, 2.0, 3.0, 4.0, 0.0, 2.0, 2.0, 4.0, 3.0, 1.0, 4.0, 6.0, 2.0, 2.0, 6.0, 3.0, 4.0, 5.0, 8.0, 6.0, 7.0, 4.0, 4.0, 7.0, 4.0, 4.0, 3.0, 4.0, 5.0, 7.0, 1.0, 6.0, 0.0, 4.0, 3.0, 2.0, 0.0, 1.0, 3.0, 0.0, 2.0, 7.0, 2.0, 3.0, 8.0, 3.0, 5.0, 5.0, 2.0, 5.0, 4.0, 5.0, 5.0, 5.0, 8.0, 0.0, 6.0, 8.0, 5.0, 5.0, 3.0, 2.0, 7.0, 9.0, 1.0, 4.0, 5.0, 7.0, 9.0, 5.0, 1.0]\n"
     ]
    },
    {
     "name": "stderr",
     "output_type": "stream",
     "text": [
      "training loop:  30% |############                               | ETA:  0:34:36\r"
     ]
    },
    {
     "name": "stdout",
     "output_type": "stream",
     "text": [
      "2021-02-25 16:30:07,211 INFO For episode 600, the average score is 5.20, episode history [1.0, 4.0, 6.0, 4.0, 6.0, 7.0, 4.0, 6.0, 7.0, 6.0, 5.0, 6.0, 6.0, 7.0, 4.0, 8.0, 8.0, 10.0, 2.0, 5.0, 7.0, 4.0, 1.0, 4.0, 7.0, 5.0, 7.0, 3.0, 7.0, 8.0, 3.0, 4.0, 6.0, 4.0, 9.0, 3.0, 5.0, 9.0, 7.0, 6.0, 5.0, 7.0, 6.0, 5.0, 7.0, 5.0, 2.0, 8.0, 5.0, 3.0, 4.0, 2.0, 2.0, 6.0, 5.0, 4.0, 7.0, 5.0, 8.0, 6.0, 3.0, 2.0, 1.0, 2.0, 3.0, 1.0, 0.0, 3.0, 11.0, 9.0, 9.0, 2.0, 8.0, 3.0, 7.0, 6.0, 10.0, 3.0, 5.0, 3.0, 9.0, 6.0, 5.0, 1.0, 8.0, 3.0, 1.0, 4.0, 0.0, 10.0, 8.0, 12.0, 3.0, 6.0, 7.0, 9.0, 1.0, -1.0, 8.0, 6.0]\n"
     ]
    },
    {
     "name": "stderr",
     "output_type": "stream",
     "text": [
      "training loop:  35% |###############                            | ETA:  0:32:02\r"
     ]
    },
    {
     "name": "stdout",
     "output_type": "stream",
     "text": [
      "2021-02-25 16:32:32,894 INFO For episode 700, the average score is 7.72, episode history [3.0, 8.0, 6.0, 6.0, 11.0, 11.0, 8.0, 6.0, 6.0, 7.0, 6.0, 6.0, 6.0, 6.0, 8.0, 7.0, 7.0, 7.0, 3.0, 9.0, 10.0, 3.0, 2.0, 4.0, 5.0, 4.0, 6.0, 5.0, 15.0, 4.0, 6.0, 10.0, 9.0, 8.0, 2.0, 9.0, 8.0, 10.0, 7.0, 7.0, 6.0, 12.0, 1.0, 13.0, 5.0, 8.0, 7.0, 4.0, 5.0, 2.0, 8.0, 12.0, 13.0, 10.0, 15.0, 6.0, 13.0, 6.0, 6.0, 7.0, 9.0, 4.0, 9.0, 4.0, 11.0, 8.0, 9.0, 4.0, 7.0, 12.0, 9.0, 11.0, 7.0, 9.0, 7.0, 11.0, 9.0, 11.0, 6.0, 4.0, 8.0, 12.0, 7.0, 8.0, 5.0, 10.0, 12.0, 11.0, 7.0, 13.0, 11.0, 13.0, 6.0, 12.0, 5.0, 8.0, 8.0, 11.0, 10.0, 4.0]\n"
     ]
    },
    {
     "name": "stderr",
     "output_type": "stream",
     "text": [
      "training loop:  40% |#################                          | ETA:  0:29:29\r"
     ]
    },
    {
     "name": "stdout",
     "output_type": "stream",
     "text": [
      "2021-02-25 16:34:57,210 INFO For episode 800, the average score is 8.69, episode history [11.0, 4.0, 8.0, 9.0, 12.0, 10.0, 6.0, 7.0, 7.0, 5.0, 1.0, 7.0, 7.0, 0.0, 9.0, 12.0, 17.0, 15.0, 13.0, 10.0, 8.0, 9.0, 4.0, 13.0, 6.0, 7.0, 8.0, 6.0, 16.0, 14.0, 12.0, 9.0, 5.0, 10.0, 12.0, 5.0, 11.0, 4.0, 9.0, 8.0, 3.0, 5.0, 2.0, 3.0, 10.0, 10.0, 9.0, 7.0, 7.0, 7.0, 14.0, 12.0, 10.0, 8.0, 11.0, 10.0, 13.0, 13.0, 11.0, 10.0, 9.0, 7.0, 6.0, 10.0, 12.0, 8.0, 4.0, 11.0, 8.0, 7.0, 11.0, 9.0, 12.0, 11.0, 9.0, 9.0, 5.0, 13.0, 7.0, 6.0, 7.0, 9.0, 10.0, 11.0, 12.0, 8.0, 5.0, 11.0, 9.0, 8.0, 11.0, 4.0, 10.0, 11.0, 5.0, 7.0, 10.0, 12.0, 3.0, 11.0]\n"
     ]
    },
    {
     "name": "stderr",
     "output_type": "stream",
     "text": [
      "training loop:  45% |###################                        | ETA:  0:27:04\r"
     ]
    },
    {
     "name": "stdout",
     "output_type": "stream",
     "text": [
      "2021-02-25 16:37:26,250 INFO For episode 900, the average score is 8.08, episode history [10.0, 9.0, 10.0, 10.0, 6.0, 9.0, 2.0, 5.0, 7.0, 8.0, 9.0, 14.0, 15.0, 8.0, 10.0, 7.0, 4.0, 13.0, 12.0, 2.0, 15.0, 6.0, 7.0, 10.0, 9.0, 5.0, 10.0, 8.0, 10.0, 11.0, 9.0, 6.0, 3.0, 8.0, 10.0, 9.0, 12.0, 7.0, 3.0, 2.0, 8.0, 7.0, 6.0, 7.0, 6.0, 7.0, 7.0, 3.0, 10.0, 10.0, 7.0, 8.0, 5.0, 11.0, 8.0, 5.0, 9.0, 14.0, 4.0, 14.0, 6.0, 7.0, 4.0, 9.0, 7.0, 13.0, 8.0, 7.0, 5.0, 2.0, 12.0, 8.0, 9.0, 10.0, 7.0, 1.0, 5.0, 8.0, 12.0, 12.0, 9.0, 6.0, 14.0, 10.0, 6.0, 6.0, 14.0, 14.0, 9.0, 11.0, 8.0, 7.0, 1.0, 4.0, 12.0, 10.0, 3.0, 9.0, 8.0, 9.0]\n"
     ]
    },
    {
     "name": "stderr",
     "output_type": "stream",
     "text": [
      "training loop:  50% |#####################                      | ETA:  0:24:35\r"
     ]
    },
    {
     "name": "stdout",
     "output_type": "stream",
     "text": [
      "2021-02-25 16:39:52,958 INFO For episode 1000, the average score is 9.55, episode history [14.0, 11.0, 1.0, 14.0, 9.0, 8.0, 11.0, 10.0, 11.0, 11.0, 11.0, 16.0, 12.0, 7.0, 5.0, 8.0, 11.0, 8.0, 7.0, 11.0, 9.0, 10.0, 8.0, 8.0, 3.0, 4.0, 14.0, 13.0, 14.0, 6.0, 11.0, 13.0, 15.0, 8.0, 8.0, 11.0, 9.0, 13.0, 11.0, 12.0, 12.0, 6.0, 6.0, 11.0, 10.0, 11.0, 11.0, 8.0, 12.0, 7.0, 14.0, 12.0, 9.0, 3.0, 2.0, 12.0, 11.0, 12.0, 9.0, 17.0, 14.0, 8.0, 5.0, 7.0, 7.0, 9.0, 12.0, 10.0, 11.0, 6.0, 0.0, 9.0, 16.0, 14.0, 8.0, 8.0, 11.0, 7.0, 4.0, 3.0, 9.0, 15.0, 9.0, 8.0, 8.0, 8.0, 10.0, 11.0, 11.0, 12.0, 6.0, 6.0, 11.0, 11.0, 2.0, 11.0, 11.0, 11.0, 15.0, 10.0]\n"
     ]
    },
    {
     "name": "stderr",
     "output_type": "stream",
     "text": [
      "training loop:  55% |#######################                    | ETA:  0:22:09\r"
     ]
    },
    {
     "name": "stdout",
     "output_type": "stream",
     "text": [
      "2021-02-25 16:42:22,925 INFO For episode 1100, the average score is 10.09, episode history [13.0, 12.0, 13.0, 11.0, 17.0, 12.0, 10.0, 9.0, 15.0, 10.0, 10.0, 12.0, 15.0, 5.0, 10.0, 1.0, 13.0, 11.0, 11.0, 8.0, 11.0, 4.0, 8.0, 10.0, 6.0, 6.0, 8.0, 13.0, 3.0, 12.0, 10.0, 16.0, 5.0, 8.0, 14.0, 14.0, 16.0, 12.0, 9.0, 9.0, 9.0, 9.0, 13.0, 13.0, 12.0, 15.0, 13.0, 7.0, 12.0, 7.0, 7.0, 6.0, 7.0, 13.0, 14.0, 11.0, 11.0, 9.0, 12.0, 15.0, 9.0, 10.0, 4.0, 13.0, 10.0, 12.0, 4.0, 4.0, 13.0, 9.0, 11.0, 12.0, 9.0, 14.0, 7.0, 6.0, 9.0, 13.0, 13.0, 10.0, 15.0, 13.0, 17.0, 15.0, 12.0, 10.0, 11.0, 7.0, 17.0, 15.0, 2.0, 10.0, 9.0, 0.0, 3.0, 1.0, 2.0, 9.0, 10.0, 12.0]\n"
     ]
    },
    {
     "name": "stderr",
     "output_type": "stream",
     "text": [
      "training loop:  60% |#########################                  | ETA:  0:19:46\r"
     ]
    },
    {
     "name": "stdout",
     "output_type": "stream",
     "text": [
      "2021-02-25 16:44:57,511 INFO For episode 1200, the average score is 10.49, episode history [6.0, 10.0, 14.0, 7.0, 12.0, 16.0, 11.0, 9.0, 12.0, 6.0, 18.0, 9.0, 14.0, 9.0, 11.0, 5.0, 11.0, 10.0, 10.0, 10.0, 14.0, 8.0, 12.0, 11.0, 7.0, 10.0, 3.0, 1.0, 7.0, 11.0, 11.0, 10.0, 7.0, 6.0, 10.0, 6.0, 5.0, 14.0, 11.0, 9.0, 7.0, 10.0, 16.0, 16.0, 12.0, 13.0, 10.0, 18.0, 10.0, 20.0, 10.0, 9.0, 13.0, 15.0, 10.0, 9.0, 8.0, 11.0, 11.0, 10.0, 13.0, 9.0, 10.0, 7.0, 17.0, 7.0, 16.0, 20.0, 9.0, 9.0, 5.0, 14.0, 9.0, 12.0, 13.0, 17.0, 16.0, 11.0, 12.0, 8.0, 14.0, 13.0, 14.0, 13.0, 14.0, 7.0, 12.0, 13.0, 10.0, 14.0, 7.0, 13.0, 6.0, 7.0, 11.0, 7.0, 9.0, 2.0, 3.0, 5.0]\n"
     ]
    },
    {
     "name": "stderr",
     "output_type": "stream",
     "text": [
      "training loop:  65% |###########################                | ETA:  0:17:21\r"
     ]
    },
    {
     "name": "stdout",
     "output_type": "stream",
     "text": [
      "2021-02-25 16:47:32,043 INFO For episode 1300, the average score is 11.31, episode history [9.0, 10.0, 7.0, 4.0, 4.0, 4.0, 4.0, 3.0, 11.0, 5.0, 5.0, 5.0, 8.0, 10.0, 16.0, 9.0, 15.0, 6.0, 14.0, 17.0, 12.0, 8.0, 10.0, 9.0, 13.0, 9.0, 13.0, 9.0, 13.0, 12.0, 9.0, 14.0, 15.0, 13.0, 12.0, 12.0, 20.0, 15.0, 17.0, 12.0, 11.0, 13.0, 19.0, 14.0, 10.0, 11.0, 18.0, 11.0, 10.0, 18.0, 12.0, 13.0, 4.0, 13.0, 13.0, 16.0, 11.0, 11.0, 13.0, 14.0, 14.0, 13.0, 13.0, 11.0, 14.0, 10.0, 11.0, 5.0, 5.0, 9.0, 11.0, 12.0, 10.0, 10.0, 7.0, 13.0, 14.0, 9.0, 14.0, 8.0, 14.0, 15.0, 11.0, 12.0, 10.0, 9.0, 6.0, 15.0, 9.0, 17.0, 9.0, 12.0, 11.0, 10.0, 17.0, 15.0, 11.0, 16.0, 14.0, 17.0]\n"
     ]
    },
    {
     "name": "stderr",
     "output_type": "stream",
     "text": [
      "training loop:  70% |##############################             | ETA:  0:14:55\r"
     ]
    },
    {
     "name": "stdout",
     "output_type": "stream",
     "text": [
      "2021-02-25 16:50:06,920 INFO For episode 1400, the average score is 11.43, episode history [14.0, 2.0, 9.0, 3.0, 7.0, 10.0, 4.0, 0.0, 4.0, 8.0, 8.0, 7.0, 11.0, 10.0, 3.0, 8.0, 7.0, 10.0, 11.0, 13.0, 11.0, 12.0, 17.0, 12.0, 12.0, 12.0, 13.0, 11.0, 14.0, 13.0, 8.0, 14.0, 11.0, 12.0, 15.0, 13.0, 16.0, 8.0, 14.0, 11.0, 18.0, 17.0, 15.0, 11.0, 2.0, 16.0, 20.0, 16.0, 8.0, 12.0, 11.0, 9.0, 16.0, 14.0, 13.0, 9.0, 9.0, 15.0, 13.0, 10.0, 11.0, 8.0, 11.0, 13.0, 11.0, 4.0, 19.0, 13.0, 10.0, 13.0, 15.0, 19.0, 15.0, 10.0, 11.0, 14.0, 12.0, 14.0, 12.0, 15.0, 7.0, 7.0, 8.0, 16.0, 6.0, 14.0, 14.0, 12.0, 12.0, 10.0, 15.0, 15.0, 15.0, 12.0, 17.0, 15.0, 10.0, 10.0, 18.0, 8.0]\n"
     ]
    },
    {
     "name": "stderr",
     "output_type": "stream",
     "text": [
      "training loop:  75% |################################           | ETA:  0:12:28\r"
     ]
    },
    {
     "name": "stdout",
     "output_type": "stream",
     "text": [
      "2021-02-25 16:52:42,263 INFO For episode 1500, the average score is 12.93, episode history [20.0, 13.0, 18.0, 18.0, 11.0, 13.0, 11.0, 14.0, 10.0, 20.0, 15.0, 16.0, 14.0, 10.0, 17.0, 18.0, 12.0, 14.0, 7.0, 13.0, 3.0, 14.0, 14.0, 12.0, 13.0, 13.0, 14.0, 13.0, 14.0, 14.0, 14.0, 21.0, 16.0, 11.0, 15.0, 11.0, 12.0, 12.0, 9.0, 16.0, 13.0, 9.0, 13.0, 15.0, 11.0, 17.0, 12.0, 9.0, 9.0, 8.0, 10.0, 11.0, 11.0, 5.0, 14.0, 8.0, 9.0, 12.0, 10.0, 9.0, 12.0, 11.0, 7.0, 7.0, 15.0, 17.0, 11.0, 12.0, 12.0, 15.0, 8.0, 18.0, 13.0, 15.0, 14.0, 18.0, 16.0, 16.0, 13.0, 16.0, 15.0, 11.0, 17.0, 12.0, 13.0, 13.0, 11.0, 4.0, 12.0, 15.0, 13.0, 19.0, 14.0, 20.0, 11.0, 15.0, 15.0, 11.0, 12.0, 14.0]\n"
     ]
    },
    {
     "name": "stderr",
     "output_type": "stream",
     "text": [
      "training loop:  80% |##################################         | ETA:  0:10:00\r"
     ]
    },
    {
     "name": "stdout",
     "output_type": "stream",
     "text": [
      "2021-02-25 16:55:17,630 INFO For episode 1600, the average score is 13.10, episode history [5.0, 15.0, 11.0, 2.0, 20.0, 12.0, 13.0, 10.0, 13.0, 16.0, 13.0, 15.0, 12.0, 19.0, 0.0, 12.0, 12.0, 14.0, 11.0, 10.0, 12.0, 9.0, 8.0, 12.0, 15.0, 13.0, 8.0, 9.0, 22.0, 15.0, 15.0, 13.0, 13.0, 8.0, 16.0, 8.0, 13.0, 15.0, 13.0, 14.0, 16.0, 12.0, 14.0, 8.0, 19.0, 19.0, 14.0, 13.0, 10.0, 12.0, 19.0, 16.0, 19.0, 17.0, 19.0, 10.0, 16.0, 12.0, 11.0, 16.0, 17.0, 6.0, 4.0, 14.0, 13.0, 8.0, 11.0, 8.0, 18.0, 16.0, 13.0, 12.0, 11.0, 20.0, 17.0, 17.0, 16.0, 12.0, 14.0, 16.0, 13.0, 12.0, 13.0, 15.0, 8.0, 14.0, 18.0, 11.0, 15.0, 18.0, 11.0, 18.0, 14.0, 8.0, 10.0, 13.0, 14.0, 12.0, 19.0, 13.0]\n"
     ]
    },
    {
     "name": "stderr",
     "output_type": "stream",
     "text": [
      "training loop:  85% |####################################       | ETA:  0:07:31\r"
     ]
    },
    {
     "name": "stdout",
     "output_type": "stream",
     "text": [
      "2021-02-25 16:57:53,491 INFO For episode 1700, the average score is 13.95, episode history [17.0, 14.0, 12.0, 17.0, 11.0, 11.0, 13.0, 9.0, 16.0, 10.0, 18.0, 14.0, 20.0, 2.0, 14.0, 19.0, 14.0, 17.0, 13.0, 14.0, 15.0, 11.0, 14.0, 15.0, 18.0, 14.0, 9.0, 10.0, 14.0, 11.0, 16.0, 6.0, 11.0, 10.0, 11.0, 18.0, 14.0, 14.0, 21.0, 15.0, 19.0, 15.0, 12.0, 13.0, 15.0, 15.0, 20.0, 20.0, 12.0, 13.0, 17.0, 15.0, 14.0, 18.0, 11.0, 18.0, 18.0, 14.0, 13.0, 14.0, 8.0, 7.0, 14.0, 14.0, 16.0, 13.0, 12.0, 17.0, 14.0, 10.0, 14.0, 10.0, 15.0, 13.0, 13.0, 12.0, 13.0, 12.0, 13.0, 11.0, 12.0, 18.0, 19.0, 8.0, 16.0, 14.0, 15.0, 9.0, 8.0, 13.0, 13.0, 17.0, 13.0, 20.0, 18.0, 15.0, 14.0, 25.0, 15.0, 14.0]\n"
     ]
    },
    {
     "name": "stderr",
     "output_type": "stream",
     "text": [
      "training loop:  90% |######################################     | ETA:  0:05:01\r"
     ]
    },
    {
     "name": "stdout",
     "output_type": "stream",
     "text": [
      "2021-02-25 17:00:29,109 INFO For episode 1800, the average score is 13.08, episode history [13.0, 4.0, 20.0, 16.0, 14.0, 13.0, 14.0, 5.0, 7.0, 8.0, 13.0, 15.0, 10.0, 10.0, 10.0, 16.0, 12.0, 12.0, 15.0, 15.0, 15.0, 12.0, 17.0, 15.0, 10.0, 15.0, 8.0, 13.0, 13.0, 18.0, 13.0, 14.0, 13.0, 11.0, 10.0, 15.0, 18.0, 16.0, 8.0, 17.0, 13.0, 19.0, 9.0, 14.0, 14.0, 16.0, 18.0, 13.0, 15.0, 11.0, 13.0, 11.0, 13.0, 16.0, 15.0, 16.0, 12.0, 10.0, 13.0, 9.0, 2.0, 20.0, 18.0, 16.0, 17.0, 10.0, 15.0, 14.0, 14.0, 9.0, 10.0, 10.0, 4.0, 10.0, 12.0, 12.0, 10.0, 5.0, 9.0, 14.0, 15.0, 14.0, 16.0, 14.0, 12.0, 16.0, 18.0, 11.0, 15.0, 14.0, 16.0, 15.0, 11.0, 15.0, 15.0, 13.0, 20.0, 13.0, 16.0, 15.0]\n"
     ]
    },
    {
     "name": "stderr",
     "output_type": "stream",
     "text": [
      "training loop:  95% |########################################   | ETA:  0:02:30\r"
     ]
    },
    {
     "name": "stdout",
     "output_type": "stream",
     "text": [
      "2021-02-25 17:03:04,643 INFO For episode 1900, the average score is 14.01, episode history [8.0, 11.0, 9.0, 9.0, 9.0, 13.0, 14.0, 19.0, 12.0, 10.0, 15.0, 14.0, 19.0, 23.0, 18.0, 4.0, 12.0, 13.0, 15.0, 19.0, 12.0, 12.0, 19.0, 12.0, 14.0, 12.0, 19.0, 20.0, 19.0, 14.0, 11.0, 12.0, 18.0, 5.0, 12.0, 13.0, 15.0, 14.0, 10.0, 16.0, 21.0, 17.0, 19.0, 16.0, 4.0, 19.0, 15.0, 16.0, 12.0, 12.0, 19.0, 11.0, 10.0, 13.0, 13.0, 16.0, 16.0, 18.0, 16.0, 9.0, 13.0, 15.0, 13.0, 18.0, 11.0, 15.0, 9.0, 17.0, 15.0, 15.0, 14.0, 14.0, 16.0, 13.0, 12.0, 17.0, 13.0, 13.0, 15.0, 16.0, 13.0, 15.0, 11.0, 17.0, 13.0, 11.0, 13.0, 13.0, 18.0, 11.0, 12.0, 15.0, 21.0, 17.0, 14.0, 8.0, 13.0, 13.0, 16.0, 16.0]\n"
     ]
    },
    {
     "name": "stderr",
     "output_type": "stream",
     "text": [
      "training loop: 100% |###########################################| ETA:  0:00:00\r"
     ]
    },
    {
     "name": "stdout",
     "output_type": "stream",
     "text": [
      "2021-02-25 17:05:40,459 INFO For episode 2000, the average score is 12.96, episode history [16.0, 14.0, 13.0, 8.0, 11.0, 15.0, 11.0, 22.0, 16.0, 14.0, 14.0, 11.0, 6.0, 13.0, 8.0, 12.0, 12.0, 9.0, 10.0, 11.0, 11.0, 11.0, 9.0, 7.0, 15.0, 11.0, 9.0, 17.0, 15.0, 16.0, 10.0, 15.0, 14.0, 17.0, 11.0, 6.0, 13.0, 14.0, 15.0, 10.0, 12.0, 12.0, 11.0, 13.0, 15.0, 19.0, 12.0, 19.0, 9.0, 3.0, 11.0, 12.0, 12.0, 21.0, 11.0, 12.0, 11.0, 17.0, 17.0, 12.0, 16.0, 15.0, 16.0, 2.0, 14.0, 17.0, 15.0, 13.0, 15.0, 10.0, 10.0, 12.0, 11.0, 8.0, 13.0, 18.0, 17.0, 11.0, 15.0, 11.0, 8.0, 16.0, 15.0, 19.0, 17.0, 17.0, 13.0, 16.0, 20.0, 17.0, 12.0, 9.0, 14.0, 17.0, 7.0, 19.0, 19.0, 11.0, 6.0, 12.0]\n"
     ]
    },
    {
     "name": "stderr",
     "output_type": "stream",
     "text": [
      "training loop: 100% |###########################################| Time: 0:50:22\n"
     ]
    }
   ],
   "source": [
    "widget = ['training loop: ', pb.Percentage(), ' ', pb.Bar(), ' ', pb.ETA() ]\r\n",
    "timer = pb.ProgressBar(widgets=widget, maxval=C['num_episodes']).start()\r\n",
    "start_time = time.time()\r\n",
    "step = 0\r\n",
    "for i in range(C['num_episodes'] + 1):\r\n",
    "    env_info = env.reset(train_mode=True)[brain_name]  # reset the env at each episode\r\n",
    "    state = agent.preprocessing(env_info.vector_observations[0])\r\n",
    "    done = False\r\n",
    "    episode_score = 0                                  # initialize the score\r\n",
    "    while not done:\r\n",
    "        if algorithm == 'Prioritized Experience Replay':\r\n",
    "            action = agent.action(state, epsilon=epsilon, beta=beta)          # select an action\r\n",
    "            beta = min(beta+C['beta_increase'], C['beta_stable'])\r\n",
    "        else:\r\n",
    "            action = agent.action(state, epsilon=epsilon)\r\n",
    "        env_info = env.step(action)[brain_name]        # send the action to the environment\r\n",
    "        next_state = agent.preprocessing(env_info.vector_observations[0])   # get the next state\r\n",
    "        reward = env_info.rewards[0]                   # get the reward\r\n",
    "        done = env_info.local_done[0]                  # see if episode has finished\r\n",
    "        agent.replay_memory.add(state, action, reward, next_state, done)\r\n",
    "        step += 1\r\n",
    "#         logger.info('step, action, reward:%i, %i, %i' % (step, action, reward))\r\n",
    "        episode_score += reward                        # update the score\r\n",
    "        state = next_state                             # roll over the state to next time step\r\n",
    "    total_score += episode_score\r\n",
    "    episode_score_hist.append(episode_score)\r\n",
    "    epsilon = max(epsilon*C['epsilon_decay'], C['epsilon_stable'])\r\n",
    "    timer.update(i)\r\n",
    "    if i % 100 == 0:\r\n",
    "        logger.info('For episode %i, the average score is %.2f, episode history %s' % (i, total_score/100, episode_score_hist[-100:]))\r\n",
    "        total_score = 0\r\n",
    "timer.finish()\r\n",
    "logger.info('The training completes in %f mins' % ((time.time() - start_time)/60))"
   ]
  },
  {
   "cell_type": "code",
   "execution_count": 6,
   "metadata": {},
   "outputs": [
    {
     "data": {
      "image/png": "[encoded data removed]",
      "text/plain": [
       "<Figure size 1080x720 with 1 Axes>"
      ]
     },
     "metadata": {
      "needs_background": "light"
     },
     "output_type": "display_data"
    }
   ],
   "source": [
    "current_time = datetime.datetime.today().strftime(\"%Y%m%d_%H%M%S\")\n",
    "plt.figure(figsize=(15, 10))\n",
    "plt.plot(episode_score_hist)\n",
    "plt.title('Episode Score with %s' % algorithm)\n",
    "plt.xlabel('Episodes')\n",
    "plt.ylabel('Scores')\n",
    "plt.savefig('plot/episode_score_%s_%s.png' % (algorithm, current_time), bbox_inches='tight')"
   ]
  },
  {
   "cell_type": "code",
   "execution_count": 12,
   "metadata": {
    "collapsed": false,
    "jupyter": {
     "outputs_hidden": false
    },
    "pycharm": {
     "name": "#%%\n"
    }
   },
   "outputs": [
    {
     "name": "stdout",
     "output_type": "stream",
     "text": [
      "2021-02-25 18:51:06,920 INFO Score: 21.0\n"
     ]
    }
   ],
   "source": [
    "env_info = env.reset(train_mode=False)[brain_name] # reset the environment\n",
    "state = agent.preprocessing(env_info.vector_observations[0])            # get the current state\n",
    "score = 0                                          # initialize the score\n",
    "while True:\n",
    "    action = agent.action(state, epsilon=epsilon, beta=0)                   # select an action\n",
    "    env_info = env.step(action)[brain_name]        # send the action to the environment\n",
    "    next_state = agent.preprocessing(env_info.vector_observations[0])   # get the next state\n",
    "    reward = env_info.rewards[0]                   # get the reward\n",
    "    done = env_info.local_done[0]                  # see if episode has finished\n",
    "    score += reward                                # update the score\n",
    "    state = next_state                             # roll over the state to next time step\n",
    "    if done:                                       # exit loop if episode finished\n",
    "        break\n",
    "\n",
    "logger.info(\"Score: {}\".format(score))"
   ]
  },
  {
   "cell_type": "code",
   "execution_count": 8,
   "metadata": {},
   "outputs": [],
   "source": [
    "# save the model and results\r\n",
    "checkpoint = {\r\n",
    "    'constants': C,\r\n",
    "    'step': step,\r\n",
    "    'episode_score_hist': episode_score_hist,\r\n",
    "    'total_score': total_score,\r\n",
    "    'epsilon': epsilon,\r\n",
    "    'network_state_dict': agent.network.state_dict(),\r\n",
    "    'target_network_state_dict': agent.target_network.state_dict()\r\n",
    "}\r\n",
    "torch.save(checkpoint, 'save/%s_%s.model' % (algorithm, current_time))\r\n",
    "with open('save/agent_memory_%s_%s.data' % (algorithm, current_time), 'wb') as output:\r\n",
    "    dill.dump(agent.replay_memory, output)"
   ]
  },
  {
   "cell_type": "markdown",
   "metadata": {},
   "source": [
    "# Load model weights from the checkpoint"
   ]
  },
  {
   "cell_type": "code",
   "execution_count": null,
   "metadata": {},
   "outputs": [],
   "source": [
    "if algorithm == 'DQN':\r\n",
    "    from constants import CONSTANTS as C\r\n",
    "    agent_demo = DQNAgent(state_size, action_size, use_cnn_network=True)\r\n",
    "elif algorithm == 'Double_DQN':\r\n",
    "    from constants import CONSTANTS as C\r\n",
    "    agent_demo = DoubleDQNAgent(state_size, action_size, use_cnn_network=True)\r\n",
    "elif algorithm == 'Prioritized_Experience_Replay':\r\n",
    "    from constants import PRIORITIZED_REPLAY_CONSTANTS as C\r\n",
    "    agent_demo = PrioritizedReplayDQNAgent(state_size, action_size, use_cnn_network=True)\r\n",
    "    beta = C['beta_begin']\r\n",
    "    logger.info('It takes %f steps for beta to go from %f to %f' % ((C['beta_stable']-C['beta_begin'])/C['beta_increase'], C['beta_begin'], C['beta_stable']))\r\n",
    "elif algorithm == 'Dueling_DQN':\r\n",
    "    from constants import CONSTANTS as C\r\n",
    "    agent_demo = DuelingDQNAgent(state_size, action_size, use_cnn_network=True)\r\n",
    "else:\r\n",
    "    logger.warning('No algorithm specified')\r\n",
    "\r\n",
    "checkpoint = torch.load('save/Double_DQN_20210224_114421.model')\r\n",
    "agent_demo.network.load_state_dict(checkpoint['network_state_dict'])\r\n",
    "agent_demo.target_network.load_state_dict(checkpoint['target_network_state_dict'])\r\n",
    "episode_score_hist = checkpoint['episode_score_hist']\r\n",
    "del checkpoint"
   ]
  },
  {
   "cell_type": "code",
   "execution_count": null,
   "metadata": {},
   "outputs": [],
   "source": [
    "current_time = datetime.datetime.today().strftime(\"%Y%m%d_%H%M%S\")\n",
    "plt.figure(figsize=(15, 10))\n",
    "plt.plot(episode_score_hist)\n",
    "plt.title('Episode Score with %s' % algorithm)\n",
    "plt.xlabel('Episodes')\n",
    "plt.ylabel('Scores')\n",
    "plt.savefig('plot/episode_score_%s_%s.png' % (algorithm, current_time), bbox_inches='tight')"
   ]
  },
  {
   "cell_type": "code",
   "execution_count": null,
   "metadata": {
    "collapsed": false,
    "jupyter": {
     "outputs_hidden": false
    },
    "pycharm": {
     "name": "#%%\n"
    }
   },
   "outputs": [],
   "source": [
    "env_info = env.reset(train_mode=False)[brain_name] # reset the environment\n",
    "state = agent_demo.preprocessing(env_info.vector_observations[0])            # get the current state\n",
    "score = 0                                          # initialize the score\n",
    "while True:\n",
    "    action = agent_demo.action(state, epsilon=epsilon, beta=0)                   # select an action\n",
    "    env_info = env.step(action)[brain_name]        # send the action to the environment\n",
    "    next_state = agent_demo.preprocessing(env_info.vector_observations[0])   # get the next state\n",
    "    reward = env_info.rewards[0]                   # get the reward\n",
    "    done = env_info.local_done[0]                  # see if episode has finished\n",
    "    score += reward                                # update the score\n",
    "    state = next_state                             # roll over the state to next time step\n",
    "    if done:                                       # exit loop if episode finished\n",
    "        break\n",
    "\n",
    "logger.info(\"Score: {}\".format(score))"
   ]
  },
  {
   "cell_type": "code",
   "execution_count": null,
   "metadata": {},
   "outputs": [],
   "source": [
    "# env.close()"
   ]
  },
  {
   "cell_type": "code",
   "execution_count": null,
   "metadata": {},
   "outputs": [],
   "source": []
  }
 ],
 "metadata": {
  "kernelspec": {
   "display_name": "drlnd1",
   "language": "python",
   "name": "drlnd"
  },
  "language_info": {
   "codemirror_mode": {
    "name": "ipython",
    "version": 3
   },
   "file_extension": ".py",
   "mimetype": "text/x-python",
   "name": "python",
   "nbconvert_exporter": "python",
   "pygments_lexer": "ipython3",
   "version": "3.6.5"
  }
 },
 "nbformat": 4,
 "nbformat_minor": 4
}