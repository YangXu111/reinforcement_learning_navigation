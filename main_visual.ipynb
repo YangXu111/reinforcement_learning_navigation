{
 "cells": [
  {
   "cell_type": "code",
   "execution_count": 3,
   "metadata": {},
   "outputs": [
    {
     "name": "stdout",
     "output_type": "stream",
     "text": [
      "The current device is cuda:0\n",
      "2021-03-01 20:55:26,549 INFO CUDA version: 11.0, CUDA enabled: True\n"
     ]
    }
   ],
   "source": [
    "# %load_ext autoreload\r\n",
    "# %autoreload 2\r\n",
    "import sys, math, time, torch, logging, json, dill, datetime, netron\r\n",
    "from unityagents import UnityEnvironment\r\n",
    "import matplotlib.pyplot as plt\r\n",
    "from dqn_agent import DQNAgent, ReplayMemory, device\r\n",
    "from double_dqn_agent import DoubleDQNAgent\r\n",
    "from prioritized_replay_dqn_agent import PrioritizedReplayDQNAgent, PrioritizedReplayMemory\r\n",
    "from dueling_dqn_agent import DuelingDQNAgent\r\n",
    "\r\n",
    "\r\n",
    "# os.environ['CUBLAS_WORKSPACE_CONFIG'] = ':4096:8'\r\n",
    "\r\n",
    "torch.cuda.empty_cache()\r\n",
    "log_file_path = 'output.log'\r\n",
    "result_file_path = 'result.json'\r\n",
    "algorithm = 'DQN'\r\n",
    "# ['DQN','Double_DQN', 'Prioritized_Experience_Replay', 'Dueling_DQN']\r\n",
    "\r\n",
    "logger = logging.getLogger('p1_navigation_pixels')\r\n",
    "while logger.handlers:\r\n",
    "    logger.removeHandler(logger.handlers[0])\r\n",
    "logger.propagate = False\r\n",
    "\r\n",
    "formatter = logging.Formatter('%(asctime)s %(levelname)s %(message)s')\r\n",
    "\r\n",
    "sh = logging.StreamHandler(sys.stdout)\r\n",
    "sh.setFormatter(formatter)\r\n",
    "sh.setLevel(logging.DEBUG)\r\n",
    "\r\n",
    "fh = logging.FileHandler(log_file_path)\r\n",
    "fh.setLevel(logging.INFO)\r\n",
    "\r\n",
    "logger.addHandler(sh)\r\n",
    "logger.addHandler(fh)\r\n",
    "logger.setLevel(logging.DEBUG)\r\n",
    "\r\n",
    "\r\n",
    "logger.info('CUDA version: %s, CUDA enabled: %s' % (torch.version.cuda, torch.backends.cudnn.enabled))"
   ]
  },
  {
   "cell_type": "code",
   "execution_count": 4,
   "metadata": {},
   "outputs": [
    {
     "name": "stderr",
     "output_type": "stream",
     "text": [
      "INFO:unityagents:\n",
      "'Academy' started successfully!\n",
      "Unity Academy name: Academy\n",
      "        Number of Brains: 1\n",
      "        Number of External Brains : 1\n",
      "        Lesson number : 0\n",
      "        Reset Parameters :\n",
      "\t\t\n",
      "Unity brain name: BananaBrain\n",
      "        Number of Visual Observations (per agent): 1\n",
      "        Vector Observation space type: continuous\n",
      "        Vector Observation space size (per agent): 0\n",
      "        Number of stacked Vector Observation: 1\n",
      "        Vector Action space type: discrete\n",
      "        Vector Action space size (per agent): 4\n",
      "        Vector Action descriptions: , , , \n"
     ]
    }
   ],
   "source": [
    "env = UnityEnvironment(file_name='VisualBanana_Windows_x86_64/Banana.exe')\n",
    "# get the default brain\n",
    "brain_name = env.brain_names[0]\n",
    "brain = env.brains[brain_name]"
   ]
  },
  {
   "cell_type": "code",
   "execution_count": 5,
   "metadata": {},
   "outputs": [
    {
     "name": "stdout",
     "output_type": "stream",
     "text": [
      "2021-02-28 23:21:45,829 DEBUG Number of agents: 1\n",
      "2021-02-28 23:21:45,837 DEBUG States look like: [[[[0.83921569 0.7254902  0.59215686]\n",
      "   [0.83921569 0.7254902  0.59215686]\n",
      "   [0.83921569 0.7254902  0.59215686]\n",
      "   ...\n",
      "   [0.83921569 0.7254902  0.59215686]\n",
      "   [0.83921569 0.7254902  0.59215686]\n",
      "   [0.83921569 0.7254902  0.59215686]]\n",
      "\n",
      "  [[0.83921569 0.7254902  0.59215686]\n",
      "   [0.83921569 0.7254902  0.59215686]\n",
      "   [0.83921569 0.7254902  0.59215686]\n",
      "   ...\n",
      "   [0.83921569 0.7254902  0.59215686]\n",
      "   [0.83921569 0.7254902  0.59215686]\n",
      "   [0.83921569 0.7254902  0.59215686]]\n",
      "\n",
      "  [[0.83921569 0.7254902  0.59215686]\n",
      "   [0.83921569 0.7254902  0.59215686]\n",
      "   [0.83921569 0.7254902  0.59215686]\n",
      "   ...\n",
      "   [0.83921569 0.7254902  0.59215686]\n",
      "   [0.83921569 0.7254902  0.59215686]\n",
      "   [0.83921569 0.7254902  0.59215686]]\n",
      "\n",
      "  ...\n",
      "\n",
      "  [[0.39215686 0.34117647 0.2745098 ]\n",
      "   [0.39215686 0.34117647 0.2745098 ]\n",
      "   [0.39215686 0.34117647 0.2745098 ]\n",
      "   ...\n",
      "   [0.21568627 0.17647059 0.51372549]\n",
      "   [0.18039216 0.14901961 0.37254902]\n",
      "   [0.3254902  0.30588235 0.4627451 ]]\n",
      "\n",
      "  [[0.39215686 0.34117647 0.2745098 ]\n",
      "   [0.39215686 0.34117647 0.2745098 ]\n",
      "   [0.39215686 0.34117647 0.2745098 ]\n",
      "   ...\n",
      "   [0.16078431 0.1254902  0.44313725]\n",
      "   [0.15294118 0.1254902  0.3254902 ]\n",
      "   [0.33333333 0.30980392 0.44313725]]\n",
      "\n",
      "  [[0.38823529 0.3372549  0.27058824]\n",
      "   [0.38823529 0.3372549  0.27058824]\n",
      "   [0.38823529 0.3372549  0.27058824]\n",
      "   ...\n",
      "   [0.16078431 0.12941176 0.43137255]\n",
      "   [0.16078431 0.12941176 0.32156863]\n",
      "   [0.34117647 0.32156863 0.44705882]]]]\n",
      "2021-02-28 23:21:45,838 INFO Number of agents: 1, states 1, actions: 4\n",
      "CNN network created\n",
      "CNN network created\n",
      "2021-02-28 23:21:49,669 INFO DQN\n",
      "2021-02-28 23:21:49,674 INFO {\n",
      "    \"hidden_layer_size\": 128,\n",
      "    \"random_seed\": 2,\n",
      "    \"learning_rate\": 0.01,\n",
      "    \"tau\": 0.1,\n",
      "    \"gamma\": 0.99,\n",
      "    \"memory_size\": 1000,\n",
      "    \"update_interval\": 4,\n",
      "    \"sample_size\": 64,\n",
      "    \"num_episodes\": 2000,\n",
      "    \"epsilon_begin\": 1,\n",
      "    \"epsilon_stable\": 0.01,\n",
      "    \"epsilon_decay\": 0.9977000638225533\n",
      "}\n"
     ]
    }
   ],
   "source": [
    "# reset the environment\r\n",
    "env_info = env.reset(train_mode=True)[brain_name]\r\n",
    "\r\n",
    "# number of agents in the environment\r\n",
    "logger.debug('Number of agents: %i' % len(env_info.agents))\r\n",
    "\r\n",
    "# examine the state space \r\n",
    "state = env_info.visual_observations[0]\r\n",
    "logger.debug('States look like: %s' % state)\r\n",
    "state_size = len(state)\r\n",
    "\r\n",
    "# number of actions\r\n",
    "action_size = brain.vector_action_space_size\r\n",
    "logger.info('Number of agents: %i, states %i, actions: %i' % (len(env_info.agents), state_size, action_size))\r\n",
    "\r\n",
    "if algorithm == 'DQN':\r\n",
    "    from constants import CONSTANTS as C\r\n",
    "    agent = DQNAgent(state_size, action_size, use_cnn_network=True)\r\n",
    "elif algorithm == 'Double_DQN':\r\n",
    "    from constants import CONSTANTS as C\r\n",
    "    agent = DoubleDQNAgent(state_size, action_size, use_cnn_network=True)\r\n",
    "elif algorithm == 'Prioritized_Experience_Replay':\r\n",
    "    from constants import PRIORITIZED_REPLAY_CONSTANTS as C\r\n",
    "    agent = PrioritizedReplayDQNAgent(state_size, action_size, use_cnn_network=True)\r\n",
    "    beta = C['beta_begin']\r\n",
    "    logger.info('It takes %f steps for beta to go from %f to %f' % ((C['beta_stable']-C['beta_begin'])/C['beta_increase'], C['beta_begin'], C['beta_stable']))\r\n",
    "elif algorithm == 'Dueling_DQN':\r\n",
    "    from constants import CONSTANTS as C\r\n",
    "    agent = DuelingDQNAgent(state_size, action_size, use_cnn_network=True)\r\n",
    "else:\r\n",
    "    logger.warning('No algorithm specified')\r\n",
    "\r\n",
    "logger.info(algorithm)\r\n",
    "logger.info(json.dumps(C, indent=4))"
   ]
  },
  {
   "cell_type": "markdown",
   "metadata": {},
   "source": [
    "# Initialize training in two ways"
   ]
  },
  {
   "cell_type": "code",
   "execution_count": 4,
   "metadata": {},
   "outputs": [
    {
     "name": "stdout",
     "output_type": "stream",
     "text": [
      "2021-02-13 19:10:58,114 INFO It takes 6000.000000 steps for epsilon to go from 1.000000 to 0.010000\n"
     ]
    }
   ],
   "source": [
    "# initialize from scratch\r\n",
    "episode_score_hist = []\r\n",
    "total_score = 0\r\n",
    "step = 0\r\n",
    "epsilon = C['epsilon_begin']\r\n",
    "logger.info('It takes %f steps for epsilon to go from %f to %f' % (math.log(C['epsilon_stable']/C['epsilon_begin'], C['epsilon_decay']), C['epsilon_begin'], C['epsilon_stable']))\r\n",
    "\r\n",
    "# initialize from saved file for continue training\r\n",
    "# checkpoint = torch.load('save/pixel_DQN_20210210_092030.model')\r\n",
    "# with open('save/pixel_agent_memory_DQN_20210210_092030.data', 'rb') as input:\r\n",
    "#     agent_memory = dill.load(input)\r\n",
    "    \r\n",
    "# agent.network.load_state_dict(checkpoint['network_state_dict'])\r\n",
    "# agent.target_network.load_state_dict(checkpoint['target_network_state_dict'])\r\n",
    "# agent.replay_memory = agent_memory\r\n",
    "# episode_score_hist = checkpoint['episode_score_hist']\r\n",
    "# total_score = checkpoint['total_score']\r\n",
    "# step = checkpoint['step']\r\n",
    "# epsilon = checkpoint['epsilon']\r\n",
    "# start_episode = len(episode_score_hist)\r\n",
    "# del checkpoint, agent_memory\r\n",
    "# logger.info('Starting episode: %i, Starting epsilon: %.2f, Starting memory length %i' % (start_episode, epsilon, len(agent.replay_memory.memory)))"
   ]
  },
  {
   "cell_type": "markdown",
   "metadata": {},
   "source": [
    "# Training"
   ]
  },
  {
   "cell_type": "code",
   "execution_count": null,
   "metadata": {
    "collapsed": true,
    "jupyter": {
     "outputs_hidden": true
    },
    "pycharm": {
     "name": "#%%\n"
    }
   },
   "outputs": [],
   "source": [
    "start_time = time.time()\r\n",
    "start_episode = len(episode_score_hist)\r\n",
    "logger.info('Start episode: %i' % start_episode)\r\n",
    "for i in range(start_episode, start_episode + C['num_episodes'] + 1):\r\n",
    "    env_info = env.reset(train_mode=True)[brain_name]  # reset the env at each episode\r\n",
    "    state = agent.preprocessing(env_info.visual_observations[0])\r\n",
    "    done = False\r\n",
    "    episode_score = 0                                  # initialize the score\r\n",
    "    while not done:\r\n",
    "        if algorithm == 'Prioritized_Experience_Replay':\r\n",
    "            action = agent.action(state, epsilon=epsilon, beta=beta)          # select an action\r\n",
    "            beta = min(beta+C['beta_increase'], C['beta_stable'])\r\n",
    "        else:\r\n",
    "            action = agent.action(state, epsilon=epsilon)\r\n",
    "        env_info = env.step(action)[brain_name]        # send the action to the environment\r\n",
    "        next_state = agent.preprocessing(env_info.visual_observations[0])   # get the next state\r\n",
    "        reward = env_info.rewards[0]                   # get the reward\r\n",
    "        done = env_info.local_done[0]                  # see if episode has finished\r\n",
    "        agent.replay_memory.add(state, action, reward, next_state, done)\r\n",
    "        step += 1\r\n",
    "#         logger.info('step, action, reward:%i, %i, %i' % (step, action, reward))\r\n",
    "        episode_score += reward                        # update the score\r\n",
    "        state = next_state                             # roll over the state to next time step\r\n",
    "    total_score += episode_score\r\n",
    "    episode_score_hist.append(episode_score)\r\n",
    "    epsilon = max(epsilon*C['epsilon_decay'], C['epsilon_stable'])\r\n",
    "    if i % 100 == 0:\r\n",
    "        logger.info('For episode %i, the average score is %.2f, episode history %s' % (i, total_score/100, episode_score_hist[-100:]))\r\n",
    "        total_score = 0\r\n",
    "logger.info('The training completes in %f mins' % ((time.time() - start_time)/60))"
   ]
  },
  {
   "cell_type": "code",
   "execution_count": null,
   "metadata": {},
   "outputs": [],
   "source": [
    "current_time = datetime.datetime.today().strftime(\"%Y%m%d_%H%M%S\")\r\n",
    "plt.figure(figsize=(15, 10))\r\n",
    "plt.plot(episode_score_hist)\r\n",
    "plt.title('Episode Score with %s' % algorithm)\r\n",
    "plt.xlabel('Episodes')\r\n",
    "plt.ylabel('Scores')\r\n",
    "plt.savefig('episode_score_with_%s_visual_2.png' % algorithm, bbox_inches='tight')"
   ]
  },
  {
   "cell_type": "code",
   "execution_count": null,
   "metadata": {
    "collapsed": false,
    "jupyter": {
     "outputs_hidden": false
    },
    "pycharm": {
     "name": "#%%\n"
    }
   },
   "outputs": [],
   "source": [
    "env_info = env.reset(train_mode=False)[brain_name] # reset the environment\n",
    "state = torch.tensor(env_info.visual_observations[0]).to(device).transpose(0, 3).float().squeeze().unsqueeze(0)            # get the current state\n",
    "score = 0                                          # initialize the score\n",
    "while True:\n",
    "    action = agent.action(state, epsilon=epsilon, beta=0)                   # select an action\n",
    "    env_info = env.step(action)[brain_name]        # send the action to the environment\n",
    "    next_state = torch.tensor(env_info.visual_observations[0]).to(device).transpose(0, 3).float().squeeze().unsqueeze(0)   # get the next state\n",
    "    reward = env_info.rewards[0]                   # get the reward\n",
    "    done = env_info.local_done[0]                  # see if episode has finished\n",
    "    score += reward                                # update the score\n",
    "    state = next_state                             # roll over the state to next time step\n",
    "    if done:                                       # exit loop if episode finished\n",
    "        break\n",
    "    \n",
    "logger.info(\"Score: {}\".format(score))"
   ]
  },
  {
   "cell_type": "code",
   "execution_count": null,
   "metadata": {},
   "outputs": [],
   "source": [
    "# save the model and results\r\n",
    "checkpoint = {\r\n",
    "    'constants': C,\r\n",
    "    'step': step,\r\n",
    "    'episode_score_hist': episode_score_hist,\r\n",
    "    'total_score': total_score,\r\n",
    "    'epsilon': epsilon,\r\n",
    "    'network_state_dict': agent.network.state_dict(),\r\n",
    "    'target_network_state_dict': agent.target_network.state_dict()\r\n",
    "}\r\n",
    "\r\n",
    "torch.save(checkpoint, 'save/pixel_%s_%s.model' % (algorithm, current_time))\r\n",
    "with open('save/pixel_agent_memory_%s_%s.data' % (algorithm, current_time), 'wb') as output:\r\n",
    "    dill.dump(agent.replay_memory, output)\r\n"
   ]
  },
  {
   "cell_type": "markdown",
   "metadata": {},
   "source": [
    "# Load model weights from the checkpoint"
   ]
  },
  {
   "cell_type": "code",
   "execution_count": 4,
   "metadata": {},
   "outputs": [
    {
     "ename": "NameError",
     "evalue": "name 'state_size' is not defined",
     "output_type": "error",
     "traceback": [
      "\u001b[1;31m---------------------------------------------------------------------------\u001b[0m",
      "\u001b[1;31mNameError\u001b[0m                                 Traceback (most recent call last)",
      "\u001b[1;32m<ipython-input-4-0289cc048028>\u001b[0m in \u001b[0;36m<module>\u001b[1;34m\u001b[0m\n\u001b[0;32m      1\u001b[0m \u001b[1;32mif\u001b[0m \u001b[0malgorithm\u001b[0m \u001b[1;33m==\u001b[0m \u001b[1;34m'DQN'\u001b[0m\u001b[1;33m:\u001b[0m\u001b[1;33m\u001b[0m\u001b[0m\n\u001b[0;32m      2\u001b[0m     \u001b[1;32mfrom\u001b[0m \u001b[0mconstants\u001b[0m \u001b[1;32mimport\u001b[0m \u001b[0mCONSTANTS\u001b[0m \u001b[1;32mas\u001b[0m \u001b[0mC\u001b[0m\u001b[1;33m\u001b[0m\u001b[0m\n\u001b[1;32m----> 3\u001b[1;33m     \u001b[0magent_demo\u001b[0m \u001b[1;33m=\u001b[0m \u001b[0mDQNAgent\u001b[0m\u001b[1;33m(\u001b[0m\u001b[0mstate_size\u001b[0m\u001b[1;33m,\u001b[0m \u001b[0maction_size\u001b[0m\u001b[1;33m,\u001b[0m \u001b[0muse_cnn_network\u001b[0m\u001b[1;33m=\u001b[0m\u001b[1;32mTrue\u001b[0m\u001b[1;33m)\u001b[0m\u001b[1;33m\u001b[0m\u001b[0m\n\u001b[0m\u001b[0;32m      4\u001b[0m \u001b[1;32melif\u001b[0m \u001b[0malgorithm\u001b[0m \u001b[1;33m==\u001b[0m \u001b[1;34m'Double_DQN'\u001b[0m\u001b[1;33m:\u001b[0m\u001b[1;33m\u001b[0m\u001b[0m\n\u001b[0;32m      5\u001b[0m     \u001b[1;32mfrom\u001b[0m \u001b[0mconstants\u001b[0m \u001b[1;32mimport\u001b[0m \u001b[0mCONSTANTS\u001b[0m \u001b[1;32mas\u001b[0m \u001b[0mC\u001b[0m\u001b[1;33m\u001b[0m\u001b[0m\n",
      "\u001b[1;31mNameError\u001b[0m: name 'state_size' is not defined"
     ]
    }
   ],
   "source": [
    "if algorithm == 'DQN':\r\n",
    "    from constants import CONSTANTS as C\r\n",
    "    agent_demo = DQNAgent(state_size, action_size, use_cnn_network=True)\r\n",
    "elif algorithm == 'Double_DQN':\r\n",
    "    from constants import CONSTANTS as C\r\n",
    "    agent_demo = DoubleDQNAgent(state_size, action_size, use_cnn_network=True)\r\n",
    "elif algorithm == 'Prioritized_Experience_Replay':\r\n",
    "    from constants import PRIORITIZED_REPLAY_CONSTANTS as C\r\n",
    "    agent_demo = PrioritizedReplayDQNAgent(state_size, action_size, use_cnn_network=True)\r\n",
    "    beta = C['beta_begin']\r\n",
    "    logger.info('It takes %f steps for beta to go from %f to %f' % ((C['beta_stable']-C['beta_begin'])/C['beta_increase'], C['beta_begin'], C['beta_stable']))\r\n",
    "elif algorithm == 'Dueling_DQN':\r\n",
    "    from constants import CONSTANTS as C\r\n",
    "    agent_demo = DuelingDQNAgent(state_size, action_size, use_cnn_network=True)\r\n",
    "else:\r\n",
    "    logger.warning('No algorithm specified')\r\n",
    "\r\n",
    "with open('pixel_DQN_20210210_092030.model', 'rb') as input:\r\n",
    "    checkpoint = dill.load(input)\r\n",
    "   \r\n",
    "agent_demo.network.load_state_dict(checkpoint['network_state_dict'])\r\n",
    "agent_demo.target_network.load_state_dict(checkpoint['target_network_state_dict'])\r\n",
    "episode_score_hist = checkpoint['episode_score_hist']\r\n",
    "del checkpoint\r\n",
    "onnx_path = 'save/onnx_model_name.onnx'\r\n",
    "torch.onnx.export(agent_demo.network, agent_demo.preprocessing(env_info.visual_observations[0]), onnx_path) \r\n",
    "netron.start(onnx_path)\r\n"
   ]
  },
  {
   "cell_type": "code",
   "execution_count": 15,
   "metadata": {},
   "outputs": [
    {
     "data": {
      "image/png": "[encoded data removed]",
      "text/plain": "<Figure size 1080x720 with 1 Axes>"
     },
     "metadata": {
      "needs_background": "light",
      "transient": {}
     },
     "output_type": "display_data"
    }
   ],
   "source": [
    "current_time = datetime.datetime.today().strftime(\"%Y%m%d_%H%M%S\")\r\n",
    "plt.figure(figsize=(15, 10))\r\n",
    "plt.plot(episode_score_hist)\r\n",
    "plt.title('Episode Score with %s' % algorithm)\r\n",
    "plt.xlabel('Episodes')\r\n",
    "plt.ylabel('Scores')\r\n",
    "plt.savefig('plot/episode_score_pixel_%s_%s.png' % (algorithm, current_time), bbox_inches='tight')"
   ]
  },
  {
   "cell_type": "code",
   "execution_count": 20,
   "metadata": {},
   "outputs": [
    {
     "name": "stdout",
     "output_type": "stream",
     "text": [
      "2021-03-01 00:11:14,478 INFO Score: 0.0\n"
     ]
    }
   ],
   "source": [
    "env_info = env.reset(train_mode=False)[brain_name] # reset the environment\r\n",
    "state = agent_demo.preprocessing(env_info.visual_observations[0])            # get the current state\r\n",
    "score = 0                                          # initialize the score\r\n",
    "while True:\r\n",
    "    action = agent_demo.action(state, epsilon=0.1, beta=0)                   # select an action\r\n",
    "    env_info = env.step(action)[brain_name]        # send the action to the environment\r\n",
    "    next_state = agent_demo.preprocessing(env_info.visual_observations[0])   # get the next state\r\n",
    "    reward = env_info.rewards[0]                   # get the reward\r\n",
    "    done = env_info.local_done[0]                  # see if episode has finished\r\n",
    "    score += reward                                # update the score\r\n",
    "    state = next_state                             # roll over the state to next time step\r\n",
    "    if done:                                       # exit loop if episode finished\r\n",
    "        break\r\n",
    "\r\n",
    "logger.info(\"Score: {}\".format(score))"
   ]
  },
  {
   "cell_type": "code",
   "execution_count": null,
   "metadata": {},
   "outputs": [],
   "source": [
    "# env.close()"
   ]
  },
  {
   "cell_type": "code",
   "execution_count": null,
   "metadata": {},
   "outputs": [],
   "source": []
  }
 ],
 "metadata": {
  "kernelspec": {
   "display_name": "drlnd1",
   "language": "python",
   "name": "drlnd"
  },
  "language_info": {
   "codemirror_mode": {
    "name": "ipython",
    "version": 3
   },
   "file_extension": ".py",
   "mimetype": "text/x-python",
   "name": "python",
   "nbconvert_exporter": "python",
   "pygments_lexer": "ipython3",
   "version": "3.6.5"
  }
 },
 "nbformat": 4,
 "nbformat_minor": 4
}